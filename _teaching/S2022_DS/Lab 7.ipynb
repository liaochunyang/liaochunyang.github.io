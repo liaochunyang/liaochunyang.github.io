{
 "cells": [
  {
   "cell_type": "markdown",
   "metadata": {},
   "source": [
    "# Lab 7 (March 2): Optimal Recovery"
   ]
  },
  {
   "cell_type": "markdown",
   "metadata": {},
   "source": [
    "Accoridng to Chapter 9, there is a linear optimal recovery map 1) The function space is a Hilbert space and 2) Q is a linear functional."
   ]
  },
  {
   "cell_type": "markdown",
   "metadata": {},
   "source": [
    "Notations: \n",
    "Data comes as $y_i=\\ell_i(f)\\in\\mathbb{R}^m$, where $f\\in \\mathcal{F}$ and $\\ell_i\\in F^*$. Observation map is $L:F\\to \\mathcal{F}$\n",
    "\n",
    "Model set $\\mathcal{K} = \\{f\\in\\mathcal{F}: \\mathop{\\mathrm{dist}}(f,V)\\leq\\epsilon\\}$\n",
    "\n",
    "Quantity of interest $Q:\\mathcal{F}\\to Z$\n",
    "\n",
    "Local worst-case error of recovery map $R:\\mathbb{R}^m\\to Z$ at fixed $y$ is defined as: $\\sup\\limits_{\\substack f\\in\\mathcal{K}\\\\Lf=y} \\|Q(f) - R(y)\\|$\n",
    "\n",
    "Global worst-case error of recovery map $R:\\mathbb{R}^m\\to Z$ is defined as: $\\sup\\limits_{f\\in\\mathcal{K}} \\|Q(f) - R(Lf)\\|$\n",
    "\n",
    "Compatibility indicator: $\\mu_{\\mathcal{V},Q}(L):=\\sup_{u\\in\\ker{L}\\setminus\\{0\\}}\\frac{\\|Q(u)\\|}{\\mathop{\\mathrm{dist}}(u,\\mathcal{V})}$"
   ]
  },
  {
   "cell_type": "code",
   "execution_count": null,
   "metadata": {},
   "outputs": [],
   "source": [
    "import numpy as np\n",
    "from scipy import linalg as LA\n",
    "from scipy import integrate\n",
    "import cvxpy as cp\n",
    "import matplotlib.pyplot as plt"
   ]
  },
  {
   "cell_type": "markdown",
   "metadata": {},
   "source": [
    "## Hilbert setting"
   ]
  },
  {
   "cell_type": "code",
   "execution_count": null,
   "metadata": {},
   "outputs": [],
   "source": [
    "# generate the approximation space V and the observation map L\n",
    "N = 40                         # dimension of the ambient Hilbert space\n",
    "n = 10                         # dimension of the space V\n",
    "epsilon = 0.1                  # the approximation parameter\n",
    "V = np.random.randn(N,n)       # the columns of this matrix form a basis of the space V\n",
    "V = V@LA.inv(LA.sqrtm(V.T@V))  # the columns now form an orthonormal basis\n",
    "m = 25                         # number of observations\n",
    "L = np.random.randn(m,N)       # the observation map\n",
    "# generate an element in the approximability set and its observation vector\n",
    "aux = np.random.randn(N,1)\n",
    "f = V@np.random.rand(n,1) + epsilon*aux/LA.norm(aux)\n",
    "y = L@f   "
   ]
  },
  {
   "cell_type": "markdown",
   "metadata": {},
   "source": [
    "Produce the Chebyshev center $f^\\star$ (according to Proposition 10.3) and the compatibility parameter $\\mu$ (according to Theorem 10.4)."
   ]
  },
  {
   "cell_type": "markdown",
   "metadata": {},
   "source": [
    "**Notations**\n",
    "\n",
    "Basis of space $V$ is $v_1,\\dots,v_n$; </br>\n",
    "\n",
    "Riesz representers $u_1,\\dots,u_m$ satisfies $\\ell_i(f) = \\langle u_i,f\\rangle$; </br>\n",
    "\n",
    "Gramian matrix $G_u\\in\\mathbb{R}^{m\\times m}$ of $u_1,\\dots,u_m$: $(G_u)_{i,j} = \\langle u_i,u_j\\rangle = \\ell_i(u_j)$; </br>\n",
    "\n",
    "Gramian matrix $G_v\\in\\mathbb{R}^{n\\times n}$ of $v_1,\\dots,v_m$: $(G_v)_{i,j} = \\langle v_i,v_j\\rangle$; </br>\n",
    "\n",
    "cross-Gramian matrix $C\\in\\mathbb{R}^{m\\times N}$: $(C)_{i,j} = \\langle u_i,v_j\\rangle = \\ell_i(v_j)$. </br>"
   ]
  },
  {
   "cell_type": "markdown",
   "metadata": {},
   "source": [
    "**Proposition 10.3**\n",
    "The locally optimal recovery map in Hilbert setting can be explicitly expressed, for any $y\\in\\mathbb{R}^m$, via\n",
    "$$ \\Delta(y) = \\sum_{i=1}^m a_iu_i + \\sum_{j=1}^nb_jv_j,$$\n",
    "where the coefficient vectors $a\\in\\mathbb{R}^m$ and $b\\in\\mathbb{R}^n$ are given by\n",
    "$$ b = (C^\\top G_u^{-1}C)^{-1}C^\\top G_u^{-1}y \\quad \\mbox{ and } \\quad a = G_u^{-1}(y-Cb) $$."
   ]
  },
  {
   "cell_type": "markdown",
   "metadata": {},
   "source": [
    "**Theorem 10.4**\n",
    "If $\\mathcal{F}=\\mathcal{H}$ is a Hilbert space and $Q=\\mathrm{Id}$ is the identity of $\\mathcal{H}$, then the compatibility indicator is given by \n",
    "$$ \\mu_{\\mathcal{V},\\mathrm{Id}}(L) = \\frac{1}{[\\lambda_{\\min}(G_\\mathcal{V}^{-1/2}C^\\top G_{u}^{-1}CG_\\mathcal{v}^{-1/2})]^{1/2}} $$"
   ]
  },
  {
   "cell_type": "code",
   "execution_count": null,
   "metadata": {},
   "outputs": [],
   "source": [
    "# Your work starts from here: \n",
    "\n",
    "# define the Gramian Gu and the cross-Gramian C (the Gramian Gv is the identity)\n",
    "\n",
    "\n",
    "# produce f_star (\\Delta(y) in Proposition 10.3)\n",
    "\n",
    "\n",
    "# produce mu in Theorem (10.4)\n"
   ]
  },
  {
   "cell_type": "markdown",
   "metadata": {},
   "source": [
    "## Real-valued quantity of interest"
   ]
  },
  {
   "cell_type": "markdown",
   "metadata": {},
   "source": [
    "The example considered here consists of the optimal estimation of the integral of a univariate function $f\\in C([-1,1])$ given its point values at $m$ equispaced points $x^{(1)},\\dots,x^{(m)}\\in[-1,1]$."
   ]
  },
  {
   "cell_type": "code",
   "execution_count": null,
   "metadata": {},
   "outputs": [],
   "source": [
    "# generate a function f and its vector of point values\n",
    "def f(x):\n",
    "    return np.sin(np.pi*x**3+x**2+1)\n",
    "m = 19\n",
    "eqpts = np.linspace(-1,1,m)\n",
    "y = f(eqpts)\n",
    "grid = np.linspace(-1,1,201)\n",
    "plt.plot(grid,f(grid),'b-',eqpts,y,'r*')\n",
    "plt.show()"
   ]
  },
  {
   "cell_type": "markdown",
   "metadata": {},
   "source": [
    "In this problem setting, Theorem 10.5 can be written as the following tractable minimization program. \n",
    "\n",
    "An optimal quadrature rule has the form $y\\in \\mathbb{R} \\mapsto \\sum_{i=1}^{m} a_i^\\star y_i\\in\\mathbb{R}$, where the vector $a^\\star\\in\\mathbb{R}^m$ is a solution to $$ \\mathop{\\mathrm{minimize}}_{a\\in\\mathbb{R}^m} \\sum_{i=1}^{m} |a_i| \\quad \\mbox{ subject to }\\quad \\sum_{i=1}^{m}a_iv_j(x^{(i)}) = \\int_{-1}^{1} v_j(x)dx, \\quad j=1,\\dots,n,$$ where $(v_1,\\dots,v_n)$ denotes a basis for the space $\\mathcal{V}$, chosen here to be made of polynomials of degree $<n$."
   ]
  },
  {
   "cell_type": "code",
   "execution_count": null,
   "metadata": {},
   "outputs": [],
   "source": [
    "# choose the monomial basis and compute a vector of optimal quadrature weights\n",
    "n = 9\n",
    "M = np.zeros((n,m))         # the matrix involved in the equality constraint\n",
    "b = np.zeros(n)             # the right-hand side of the equality constraint\n",
    "\n",
    "# Compute matrix M and right-hand side vector b\n",
    "\n",
    "    \n",
    "# Use cvxpy to solve this minimization program\n",
    "\n",
    "\n",
    "\n",
    "print('The optimal estimation of the integral is {:.4f}, while the true integral is {:.4f}, corresponding to a relative error of {:.4f}.'.\n",
    "     format(y@a_star, integrate.quad(f,-1,1)[0], abs(y@a_star-integrate.quad(f,-1,1)[0])/integrate.quad(f,-1,1)[0]) )\n"
   ]
  }
 ],
 "metadata": {
  "kernelspec": {
   "display_name": "Python 3",
   "language": "python",
   "name": "python3"
  },
  "language_info": {
   "codemirror_mode": {
    "name": "ipython",
    "version": 3
   },
   "file_extension": ".py",
   "mimetype": "text/x-python",
   "name": "python",
   "nbconvert_exporter": "python",
   "pygments_lexer": "ipython3",
   "version": "3.7.6"
  }
 },
 "nbformat": 4,
 "nbformat_minor": 4
}
