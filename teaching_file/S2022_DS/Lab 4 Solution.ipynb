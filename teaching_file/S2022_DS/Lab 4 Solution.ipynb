{
 "cells": [
  {
   "cell_type": "markdown",
   "metadata": {},
   "source": [
    "# Lab 4 (Feb 9): Kernel Method"
   ]
  },
  {
   "cell_type": "markdown",
   "metadata": {},
   "source": [
    "This week, we will apply kernel method to support vector machine, which allows us to generate non-linear separation boundary line."
   ]
  },
  {
   "cell_type": "markdown",
   "metadata": {},
   "source": [
    "Data set $\\{x_i,y_i\\}$ cannot be linearly separated in a lower-dimensional vector space $\\mathbb{R}^n$, while it can be linearly separated in a higher-dimensional vector space $\\mathbb{R}^N$, $n\\leq N$. "
   ]
  },
  {
   "cell_type": "markdown",
   "metadata": {},
   "source": [
    "So we first introduce feature map $\\phi:\\mathbb{R}^n \\to \\mathbb{R}^N$ that maps $x_i$ to $\\phi(x_i)\\in\\mathbb{R}^N$. Then we apply support vector machine for new data set $\\{\\phi(x_i),y_i\\}$."
   ]
  },
  {
   "cell_type": "markdown",
   "metadata": {},
   "source": [
    "Computation in $\\mathbb{R}^N$ is the main difficulty. It's addressed by introducing kernel function that gives us a simple way to compute the inner product in $\\mathbb{R}^N$.\n",
    "$$ K(x_i,x_j) = \\langle \\phi(x_i),\\phi(x_j) \\rangle $$"
   ]
  },
  {
   "cell_type": "markdown",
   "metadata": {},
   "source": [
    "Recall support vector machine, we try to find $w\\in\\mathbb{R}^N$ and $b\\in\\mathbb{R}$. According to the textbook, $w = \\sum_{j=1}^{m}a_j\\phi(x_j)$ for some $a\\in\\mathbb{R}^m$."
   ]
  },
  {
   "cell_type": "markdown",
   "metadata": {},
   "source": [
    "The desired $a\\in\\mathbb{R}^m$ and $b\\in\\mathbb{R}$ are the solution to the following optimization program\n",
    "$$ \\mathop{\\mathrm{minimize}}_{a\\in\\mathbb{R}^m, b\\in\\mathbb{R},\\xi\\in\\mathbb{R}^m} a^\\top Ka + \\frac{1}{\\lambda}\\sum_{i=1}^{m}\\xi_i \\quad \\mbox{ s.to } \\quad y_i((Ka)_i-b)\\geq1 \\quad  \\mbox{ for all } i\\in[1 : m],$$\n",
    "where $K_{i,j} = K(x_i,x_j) = \\langle \\phi(x_i),\\phi(x_j) \\rangle$."
   ]
  },
  {
   "cell_type": "code",
   "execution_count": 1,
   "metadata": {},
   "outputs": [],
   "source": [
    "import numpy as np\n",
    "from numpy import linalg as LA\n",
    "import matplotlib.pyplot as plt\n",
    "import cvxpy as cp"
   ]
  },
  {
   "cell_type": "markdown",
   "metadata": {},
   "source": [
    "The next function implements above optimization problem using CVXPY. "
   ]
  },
  {
   "cell_type": "code",
   "execution_count": 2,
   "metadata": {},
   "outputs": [],
   "source": [
    "def kernel_svm(K,lamb,m0,m1):\n",
    "    \n",
    "    ## K is the kernel matrix.\n",
    "    ## Hyperparameter lamb needs to be chosen carefully.\n",
    "    ## m0 is the number of data points with label y = -1\n",
    "    ## m1 is the number of data points with label y = +1\n",
    "    \n",
    "    # define the variables a\\in R^m, b\\in R and xi\\in R^m (m = m0+m1)\n",
    "    a = cp.Variable(m0+m1)\n",
    "    b = cp.Variable(1)\n",
    "    xi = cp.Variable(m0+m1,pos=True)\n",
    "    \n",
    "    # define the objective function\n",
    "    objective = cp.Minimize(cp.quad_form(a,K)+cp.sum(xi)/lamb)\n",
    "    \n",
    "    # define the inequality constraints\n",
    "    # First m0 costraints correspond to class with label -1\n",
    "    # Next m1 constraints correspond to class with label +1\n",
    "    constraints = [K[0:m0,:]@a - b <= -1+xi[0:m0]]\n",
    "    constraints += [K[m0:m0+m1,:]@a - b >= 1-xi[m0:m0+m1]]\n",
    "    \n",
    "    # solve optimization problem\n",
    "    prob = cp.Problem(objective, constraints)\n",
    "    prob.solve(solver='ECOS')\n",
    "    \n",
    "    # return the outputs\n",
    "    return a.value, b.value"
   ]
  },
  {
   "cell_type": "markdown",
   "metadata": {},
   "source": [
    "## Explaination of polynomial kernel"
   ]
  },
  {
   "cell_type": "code",
   "execution_count": 3,
   "metadata": {},
   "outputs": [
    {
     "data": {
      "image/png": "[encoded data removed]",
      "text/plain": [
       "<Figure size 432x288 with 1 Axes>"
      ]
     },
     "metadata": {},
     "output_type": "display_data"
    }
   ],
   "source": [
    "np.random.seed(1)\n",
    "m0 = 100;\n",
    "m1 = 50;\n",
    "\n",
    "# The first coordinate of X0\n",
    "X0_x = np.random.uniform(0,6,m0)\n",
    "# The second coordinate of X0\n",
    "X0_y = np.sin(X0_x) + np.random.uniform(0,0.5,m0) \n",
    "# Stack first and second coordinate to obatin X0\n",
    "X0 = np.column_stack( (X0_x, X0_y) )\n",
    "    \n",
    "# The first coordinate of X1\n",
    "X1_x = np.random.uniform(0,6,m1) \n",
    "# The second coordinate of X1\n",
    "X1_y = np.sin(X1_x) - np.random.uniform(0,0.5,m1)\n",
    "# Stack first and second coordinate to obtain X1\n",
    "X1 = np.column_stack( (X1_x, X1_y) )\n",
    "\n",
    "X = np.row_stack((X0,X1))\n",
    "    \n",
    "# Visualize data\n",
    "plt.plot(X0[:,0],X0[:,1],'b.',X1[:,0],X1[:,1],'r+', markerfacecolor='none',markersize=8)\n",
    "plt.xticks([])\n",
    "plt.yticks([])\n",
    "plt.show()"
   ]
  },
  {
   "cell_type": "markdown",
   "metadata": {},
   "source": [
    "The next function computes the kernel matrix corresponding to polynomial kernel of degree d, which is computed by\n",
    "$$ K(x,y) = (1+\\langle x,y\\rangle)^d, \\quad \\mbox{ for all } x,y\\in\\mathbb{R}^n.$$"
   ]
  },
  {
   "cell_type": "code",
   "execution_count": 4,
   "metadata": {},
   "outputs": [],
   "source": [
    "def poly_kernel(X,d):\n",
    "    \n",
    "    # X is data matrix; d is the degree of polynomial kernel.\n",
    "\n",
    "    # Compute kernel matrix K (Hint: matrix transpose helps a lot, using loop is slow)\n",
    "    K = (1+X@X.T)**d\n",
    "    \n",
    "    return K"
   ]
  },
  {
   "cell_type": "code",
   "execution_count": 5,
   "metadata": {},
   "outputs": [
    {
     "ename": "DCPError",
     "evalue": "Problem does not follow DCP rules. Specifically:\nThe objective is not DCP. Its following subexpressions are not:\nQuadForm(var0, [[4.81594253e+02 1.44730855e+03 2.40036850e+00 ... 4.60085634e+02\n  1.06452878e+03 2.85831620e+03]\n [1.44730855e+03 8.14052689e+03 3.57328265e-01 ... 1.53609508e+03\n  7.37556089e+03 1.62750065e+04]\n [2.40036850e+00 3.57328265e-01 1.71435150e+00 ... 1.91587716e+00\n  7.86161118e-02 2.79917207e-01]\n ...\n [4.60085634e+02 1.53609508e+03 1.91587716e+00 ... 4.47619706e+02\n  1.18129271e+03 3.02902943e+03]\n [1.06452878e+03 7.37556089e+03 7.86161118e-02 ... 1.18129271e+03\n  7.16351859e+03 1.46645725e+04]\n [2.85831620e+03 1.62750065e+04 2.79917207e-01 ... 3.02902943e+03\n  1.46645725e+04 3.27646469e+04]])",
     "output_type": "error",
     "traceback": [
      "\u001b[0;31m---------------------------------------------------------------------------\u001b[0m",
      "\u001b[0;31mDCPError\u001b[0m                                  Traceback (most recent call last)",
      "\u001b[0;32m<ipython-input-5-62a43c857744>\u001b[0m in \u001b[0;36m<module>\u001b[0;34m\u001b[0m\n\u001b[1;32m      5\u001b[0m \u001b[0;31m# Compute the optimization problem to get a\\in R^m and b\\in R\u001b[0m\u001b[0;34m\u001b[0m\u001b[0;34m\u001b[0m\u001b[0;34m\u001b[0m\u001b[0m\n\u001b[1;32m      6\u001b[0m \u001b[0mlamb\u001b[0m \u001b[0;34m=\u001b[0m \u001b[0;36m1e-3\u001b[0m\u001b[0;34m\u001b[0m\u001b[0;34m\u001b[0m\u001b[0m\n\u001b[0;32m----> 7\u001b[0;31m \u001b[0ma_poly\u001b[0m\u001b[0;34m,\u001b[0m\u001b[0mb_poly\u001b[0m \u001b[0;34m=\u001b[0m \u001b[0mkernel_svm\u001b[0m\u001b[0;34m(\u001b[0m\u001b[0mK_poly\u001b[0m\u001b[0;34m,\u001b[0m\u001b[0mlamb\u001b[0m\u001b[0;34m,\u001b[0m\u001b[0mm0\u001b[0m\u001b[0;34m,\u001b[0m\u001b[0mm1\u001b[0m\u001b[0;34m)\u001b[0m\u001b[0;34m\u001b[0m\u001b[0;34m\u001b[0m\u001b[0m\n\u001b[0m",
      "\u001b[0;32m<ipython-input-2-94e55d4713e1>\u001b[0m in \u001b[0;36mkernel_svm\u001b[0;34m(K, lamb, m0, m1)\u001b[0m\n\u001b[1;32m     22\u001b[0m     \u001b[0;31m# solve optimization problem\u001b[0m\u001b[0;34m\u001b[0m\u001b[0;34m\u001b[0m\u001b[0;34m\u001b[0m\u001b[0m\n\u001b[1;32m     23\u001b[0m     \u001b[0mprob\u001b[0m \u001b[0;34m=\u001b[0m \u001b[0mcp\u001b[0m\u001b[0;34m.\u001b[0m\u001b[0mProblem\u001b[0m\u001b[0;34m(\u001b[0m\u001b[0mobjective\u001b[0m\u001b[0;34m,\u001b[0m \u001b[0mconstraints\u001b[0m\u001b[0;34m)\u001b[0m\u001b[0;34m\u001b[0m\u001b[0;34m\u001b[0m\u001b[0m\n\u001b[0;32m---> 24\u001b[0;31m     \u001b[0mprob\u001b[0m\u001b[0;34m.\u001b[0m\u001b[0msolve\u001b[0m\u001b[0;34m(\u001b[0m\u001b[0msolver\u001b[0m\u001b[0;34m=\u001b[0m\u001b[0;34m'ECOS'\u001b[0m\u001b[0;34m)\u001b[0m\u001b[0;34m\u001b[0m\u001b[0;34m\u001b[0m\u001b[0m\n\u001b[0m\u001b[1;32m     25\u001b[0m \u001b[0;34m\u001b[0m\u001b[0m\n\u001b[1;32m     26\u001b[0m     \u001b[0;31m# return the outputs\u001b[0m\u001b[0;34m\u001b[0m\u001b[0;34m\u001b[0m\u001b[0;34m\u001b[0m\u001b[0m\n",
      "\u001b[0;32m/Applications/anaconda3/lib/python3.7/site-packages/cvxpy/problems/problem.py\u001b[0m in \u001b[0;36msolve\u001b[0;34m(self, *args, **kwargs)\u001b[0m\n\u001b[1;32m    460\u001b[0m         \u001b[0;32melse\u001b[0m\u001b[0;34m:\u001b[0m\u001b[0;34m\u001b[0m\u001b[0;34m\u001b[0m\u001b[0m\n\u001b[1;32m    461\u001b[0m             \u001b[0msolve_func\u001b[0m \u001b[0;34m=\u001b[0m \u001b[0mProblem\u001b[0m\u001b[0;34m.\u001b[0m\u001b[0m_solve\u001b[0m\u001b[0;34m\u001b[0m\u001b[0;34m\u001b[0m\u001b[0m\n\u001b[0;32m--> 462\u001b[0;31m         \u001b[0;32mreturn\u001b[0m \u001b[0msolve_func\u001b[0m\u001b[0;34m(\u001b[0m\u001b[0mself\u001b[0m\u001b[0;34m,\u001b[0m \u001b[0;34m*\u001b[0m\u001b[0margs\u001b[0m\u001b[0;34m,\u001b[0m \u001b[0;34m**\u001b[0m\u001b[0mkwargs\u001b[0m\u001b[0;34m)\u001b[0m\u001b[0;34m\u001b[0m\u001b[0;34m\u001b[0m\u001b[0m\n\u001b[0m\u001b[1;32m    463\u001b[0m \u001b[0;34m\u001b[0m\u001b[0m\n\u001b[1;32m    464\u001b[0m     \u001b[0;34m@\u001b[0m\u001b[0mclassmethod\u001b[0m\u001b[0;34m\u001b[0m\u001b[0;34m\u001b[0m\u001b[0m\n",
      "\u001b[0;32m/Applications/anaconda3/lib/python3.7/site-packages/cvxpy/problems/problem.py\u001b[0m in \u001b[0;36m_solve\u001b[0;34m(self, solver, warm_start, verbose, gp, qcp, requires_grad, enforce_dpp, **kwargs)\u001b[0m\n\u001b[1;32m    948\u001b[0m \u001b[0;34m\u001b[0m\u001b[0m\n\u001b[1;32m    949\u001b[0m         data, solving_chain, inverse_data = self.get_problem_data(\n\u001b[0;32m--> 950\u001b[0;31m             solver, gp, enforce_dpp, verbose)\n\u001b[0m\u001b[1;32m    951\u001b[0m \u001b[0;34m\u001b[0m\u001b[0m\n\u001b[1;32m    952\u001b[0m         \u001b[0;32mif\u001b[0m \u001b[0mverbose\u001b[0m\u001b[0;34m:\u001b[0m\u001b[0;34m\u001b[0m\u001b[0;34m\u001b[0m\u001b[0m\n",
      "\u001b[0;32m/Applications/anaconda3/lib/python3.7/site-packages/cvxpy/problems/problem.py\u001b[0m in \u001b[0;36mget_problem_data\u001b[0;34m(self, solver, gp, enforce_dpp, verbose)\u001b[0m\n\u001b[1;32m    569\u001b[0m             \u001b[0mself\u001b[0m\u001b[0;34m.\u001b[0m\u001b[0m_cache\u001b[0m\u001b[0;34m.\u001b[0m\u001b[0minvalidate\u001b[0m\u001b[0;34m(\u001b[0m\u001b[0;34m)\u001b[0m\u001b[0;34m\u001b[0m\u001b[0;34m\u001b[0m\u001b[0m\n\u001b[1;32m    570\u001b[0m             solving_chain = self._construct_chain(\n\u001b[0;32m--> 571\u001b[0;31m                 solver=solver, gp=gp, enforce_dpp=enforce_dpp)\n\u001b[0m\u001b[1;32m    572\u001b[0m             \u001b[0mself\u001b[0m\u001b[0;34m.\u001b[0m\u001b[0m_cache\u001b[0m\u001b[0;34m.\u001b[0m\u001b[0mkey\u001b[0m \u001b[0;34m=\u001b[0m \u001b[0mkey\u001b[0m\u001b[0;34m\u001b[0m\u001b[0;34m\u001b[0m\u001b[0m\n\u001b[1;32m    573\u001b[0m             \u001b[0mself\u001b[0m\u001b[0;34m.\u001b[0m\u001b[0m_cache\u001b[0m\u001b[0;34m.\u001b[0m\u001b[0msolving_chain\u001b[0m \u001b[0;34m=\u001b[0m \u001b[0msolving_chain\u001b[0m\u001b[0;34m\u001b[0m\u001b[0;34m\u001b[0m\u001b[0m\n",
      "\u001b[0;32m/Applications/anaconda3/lib/python3.7/site-packages/cvxpy/problems/problem.py\u001b[0m in \u001b[0;36m_construct_chain\u001b[0;34m(self, solver, gp, enforce_dpp)\u001b[0m\n\u001b[1;32m    797\u001b[0m         \u001b[0mself\u001b[0m\u001b[0;34m.\u001b[0m\u001b[0m_sort_candidate_solvers\u001b[0m\u001b[0;34m(\u001b[0m\u001b[0mcandidate_solvers\u001b[0m\u001b[0;34m)\u001b[0m\u001b[0;34m\u001b[0m\u001b[0;34m\u001b[0m\u001b[0m\n\u001b[1;32m    798\u001b[0m         return construct_solving_chain(self, candidate_solvers, gp=gp,\n\u001b[0;32m--> 799\u001b[0;31m                                        enforce_dpp=enforce_dpp)\n\u001b[0m\u001b[1;32m    800\u001b[0m \u001b[0;34m\u001b[0m\u001b[0m\n\u001b[1;32m    801\u001b[0m     \u001b[0;34m@\u001b[0m\u001b[0mstaticmethod\u001b[0m\u001b[0;34m\u001b[0m\u001b[0;34m\u001b[0m\u001b[0m\n",
      "\u001b[0;32m/Applications/anaconda3/lib/python3.7/site-packages/cvxpy/reductions/solvers/solving_chain.py\u001b[0m in \u001b[0;36mconstruct_solving_chain\u001b[0;34m(problem, candidates, gp, enforce_dpp)\u001b[0m\n\u001b[1;32m    153\u001b[0m     \u001b[0;32mif\u001b[0m \u001b[0mlen\u001b[0m\u001b[0;34m(\u001b[0m\u001b[0mproblem\u001b[0m\u001b[0;34m.\u001b[0m\u001b[0mvariables\u001b[0m\u001b[0;34m(\u001b[0m\u001b[0;34m)\u001b[0m\u001b[0;34m)\u001b[0m \u001b[0;34m==\u001b[0m \u001b[0;36m0\u001b[0m\u001b[0;34m:\u001b[0m\u001b[0;34m\u001b[0m\u001b[0;34m\u001b[0m\u001b[0m\n\u001b[1;32m    154\u001b[0m         \u001b[0;32mreturn\u001b[0m \u001b[0mSolvingChain\u001b[0m\u001b[0;34m(\u001b[0m\u001b[0mreductions\u001b[0m\u001b[0;34m=\u001b[0m\u001b[0;34m[\u001b[0m\u001b[0mConstantSolver\u001b[0m\u001b[0;34m(\u001b[0m\u001b[0;34m)\u001b[0m\u001b[0;34m]\u001b[0m\u001b[0;34m)\u001b[0m\u001b[0;34m\u001b[0m\u001b[0;34m\u001b[0m\u001b[0m\n\u001b[0;32m--> 155\u001b[0;31m     \u001b[0mreductions\u001b[0m \u001b[0;34m=\u001b[0m \u001b[0m_reductions_for_problem_class\u001b[0m\u001b[0;34m(\u001b[0m\u001b[0mproblem\u001b[0m\u001b[0;34m,\u001b[0m \u001b[0mcandidates\u001b[0m\u001b[0;34m,\u001b[0m \u001b[0mgp\u001b[0m\u001b[0;34m)\u001b[0m\u001b[0;34m\u001b[0m\u001b[0;34m\u001b[0m\u001b[0m\n\u001b[0m\u001b[1;32m    156\u001b[0m \u001b[0;34m\u001b[0m\u001b[0m\n\u001b[1;32m    157\u001b[0m     \u001b[0mdpp_context\u001b[0m \u001b[0;34m=\u001b[0m \u001b[0;34m'dcp'\u001b[0m \u001b[0;32mif\u001b[0m \u001b[0;32mnot\u001b[0m \u001b[0mgp\u001b[0m \u001b[0;32melse\u001b[0m \u001b[0;34m'dgp'\u001b[0m\u001b[0;34m\u001b[0m\u001b[0;34m\u001b[0m\u001b[0m\n",
      "\u001b[0;32m/Applications/anaconda3/lib/python3.7/site-packages/cvxpy/reductions/solvers/solving_chain.py\u001b[0m in \u001b[0;36m_reductions_for_problem_class\u001b[0;34m(problem, candidates, gp)\u001b[0m\n\u001b[1;32m     90\u001b[0m                        \"Consider calling solve() with `qcp=True`.\")\n\u001b[1;32m     91\u001b[0m         raise DCPError(\n\u001b[0;32m---> 92\u001b[0;31m             \"Problem does not follow DCP rules. Specifically:\\n\" + append)\n\u001b[0m\u001b[1;32m     93\u001b[0m     \u001b[0;32melif\u001b[0m \u001b[0mgp\u001b[0m \u001b[0;32mand\u001b[0m \u001b[0;32mnot\u001b[0m \u001b[0mproblem\u001b[0m\u001b[0;34m.\u001b[0m\u001b[0mis_dgp\u001b[0m\u001b[0;34m(\u001b[0m\u001b[0;34m)\u001b[0m\u001b[0;34m:\u001b[0m\u001b[0;34m\u001b[0m\u001b[0;34m\u001b[0m\u001b[0m\n\u001b[1;32m     94\u001b[0m         \u001b[0mappend\u001b[0m \u001b[0;34m=\u001b[0m \u001b[0mbuild_non_disciplined_error_msg\u001b[0m\u001b[0;34m(\u001b[0m\u001b[0mproblem\u001b[0m\u001b[0;34m,\u001b[0m \u001b[0;34m'DGP'\u001b[0m\u001b[0;34m)\u001b[0m\u001b[0;34m\u001b[0m\u001b[0;34m\u001b[0m\u001b[0m\n",
      "\u001b[0;31mDCPError\u001b[0m: Problem does not follow DCP rules. Specifically:\nThe objective is not DCP. Its following subexpressions are not:\nQuadForm(var0, [[4.81594253e+02 1.44730855e+03 2.40036850e+00 ... 4.60085634e+02\n  1.06452878e+03 2.85831620e+03]\n [1.44730855e+03 8.14052689e+03 3.57328265e-01 ... 1.53609508e+03\n  7.37556089e+03 1.62750065e+04]\n [2.40036850e+00 3.57328265e-01 1.71435150e+00 ... 1.91587716e+00\n  7.86161118e-02 2.79917207e-01]\n ...\n [4.60085634e+02 1.53609508e+03 1.91587716e+00 ... 4.47619706e+02\n  1.18129271e+03 3.02902943e+03]\n [1.06452878e+03 7.37556089e+03 7.86161118e-02 ... 1.18129271e+03\n  7.16351859e+03 1.46645725e+04]\n [2.85831620e+03 1.62750065e+04 2.79917207e-01 ... 3.02902943e+03\n  1.46645725e+04 3.27646469e+04]])"
     ]
    }
   ],
   "source": [
    "# Compute the kernel matrix K_poly\n",
    "d = 3\n",
    "K_poly = poly_kernel(X,d)\n",
    "\n",
    "# Compute the optimization problem to get a\\in R^m and b\\in R\n",
    "lamb = 1e-3\n",
    "a_poly,b_poly = kernel_svm(K_poly,lamb,m0,m1)\n"
   ]
  },
  {
   "cell_type": "code",
   "execution_count": null,
   "metadata": {},
   "outputs": [],
   "source": [
    "# visualize the boundary produced by SVM with the polynomial kernel\n",
    "plt.plot(X0[:,0],X0[:,1],'b.',X1[:,0],X1[:,1],'r+',markerfacecolor='none',markersize=8)\n",
    "grid_x = np.linspace(0,6,100)\n",
    "grid_y = np.linspace(-1.5,1.5,100)\n",
    "xx,yy = np.meshgrid(grid_x,grid_y)\n",
    "f = sum( ( a_poly[i] *(1+X[i,0]*xx+X[i,1]*yy)**3 for i in range(m0+m1) ) )  \n",
    "plt.contour(grid_x,grid_y,f-b_poly,0, colors='k',linestyles='dashed')\n",
    "plt.xticks([])\n",
    "plt.yticks([])\n",
    "plt.show()"
   ]
  },
  {
   "cell_type": "markdown",
   "metadata": {},
   "source": [
    "## Explaination of Gaussian Kernel"
   ]
  },
  {
   "cell_type": "markdown",
   "metadata": {},
   "source": [
    "The next function computes the kernel matrix of Gaussian kernel, which is computed by \n",
    "$$ K(x,y) = \\exp(-\\frac{\\|x-y\\|^2}{2\\sigma^2}), \\quad \\mbox{ for all } x,y\\in\\mathbb{R}^n.$$"
   ]
  },
  {
   "cell_type": "code",
   "execution_count": 6,
   "metadata": {},
   "outputs": [],
   "source": [
    "def gaussian_kernel(X,sigma):\n",
    "    \n",
    "    # X is data matrix; sigma is the paramter in Gaussian kernel\n",
    "    \n",
    "    # Compute kernel matrix K. Unfortunately, for loop is needed. \n",
    "    m = np.shape(X)[0]\n",
    "    K = np.zeros((m,m))\n",
    "    for i in range(m):\n",
    "        for j in range(m):\n",
    "            K[i,j] = np.exp(-LA.norm(X[i,:]-X[j,:])/(2*sigma**2))\n",
    "    \n",
    "    return K"
   ]
  },
  {
   "cell_type": "code",
   "execution_count": 7,
   "metadata": {},
   "outputs": [
    {
     "data": {
      "image/png": "[encoded data removed]",
      "text/plain": [
       "<Figure size 432x288 with 1 Axes>"
      ]
     },
     "metadata": {},
     "output_type": "display_data"
    }
   ],
   "source": [
    "# generate the data\n",
    "m0 = 50\n",
    "m1 = 100\n",
    "r0 = 1.1*np.sqrt(np.random.uniform(0,1,m0))\n",
    "theta0 = np.random.uniform(0,2*np.pi,m0)\n",
    "r1 = 0.8 + np.sqrt(np.random.uniform(0,1,m1))\n",
    "theta1 = np.random.uniform(0,2*np.pi,m1)\n",
    "X0 = np.column_stack( (r0*np.cos(theta0), r0*np.sin(theta0)) )\n",
    "X1 = np.column_stack( (r1*np.cos(theta1), r1*np.sin(theta1)) )\n",
    "\n",
    "X = np.row_stack((X0,X1))\n",
    "\n",
    "plt.plot(X0[:,0],X0[:,1],'b.',X1[:,0],X1[:,1],'r+',markerfacecolor='none',markersize=8)\n",
    "plt.xticks([])\n",
    "plt.yticks([])\n",
    "plt.show()"
   ]
  },
  {
   "cell_type": "code",
   "execution_count": 9,
   "metadata": {},
   "outputs": [],
   "source": [
    "sigma = 1\n",
    "K_gaus = gaussian_kernel(X,sigma)\n",
    "\n",
    "lamb = 1\n",
    "a_expo,b_expo = kernel_svm(K_gaus,lamb,m0,m1)"
   ]
  },
  {
   "cell_type": "code",
   "execution_count": 10,
   "metadata": {},
   "outputs": [
    {
     "data": {
      "image/png": "[encoded data removed]",
      "text/plain": [
       "<Figure size 432x288 with 1 Axes>"
      ]
     },
     "metadata": {},
     "output_type": "display_data"
    }
   ],
   "source": [
    "# visualize the boundary produced by SVM with the exponential kernel\n",
    "plt.plot(X0[:,0],X0[:,1],'b.',X1[:,0],X1[:,1],'r+',markerfacecolor='none',markersize=8)\n",
    "grid_x = np.linspace(-1.5,1.5,100)\n",
    "grid_y = np.linspace(-1.5,1.5,100)\n",
    "xx,yy = np.meshgrid(grid_x,grid_y)\n",
    "f = sum( ( a_expo[i] * np.exp( -np.sqrt((X[i,0]-xx)**2+(X[i,1]-yy)**2) / (2*sigma**2) ) for i in range(m0+m1) ) )\n",
    "plt.contour(grid_x,grid_y,f-b_expo,0, colors='k',linestyles='dashed')\n",
    "plt.xticks([])\n",
    "plt.yticks([])\n",
    "plt.show()"
   ]
  }
 ],
 "metadata": {
  "kernelspec": {
   "display_name": "Python 3",
   "language": "python",
   "name": "python3"
  },
  "language_info": {
   "codemirror_mode": {
    "name": "ipython",
    "version": 3
   },
   "file_extension": ".py",
   "mimetype": "text/x-python",
   "name": "python",
   "nbconvert_exporter": "python",
   "pygments_lexer": "ipython3",
   "version": "3.7.6"
  }
 },
 "nbformat": 4,
 "nbformat_minor": 4
}
