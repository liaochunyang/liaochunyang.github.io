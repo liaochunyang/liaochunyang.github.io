{
 "cells": [
  {
   "cell_type": "markdown",
   "metadata": {},
   "source": [
    "# Lab 12 (Apr 6): Linear Programming"
   ]
  },
  {
   "cell_type": "code",
   "execution_count": null,
   "metadata": {},
   "outputs": [],
   "source": [
    "import numpy as np\n",
    "from numpy import linalg as LA\n",
    "import cvxpy as cp\n",
    "import matplotlib.pyplot as plt"
   ]
  },
  {
   "cell_type": "markdown",
   "metadata": {},
   "source": [
    "Motivation: A few examples of geometric problems can be formulated, and hence solved, as linear programs. \n",
    "\n",
    "Method: \n",
    "* Using CVXPY to solve linear programming (I will use this one only)\n",
    "* you can use scipy.optimize.linprog as well"
   ]
  },
  {
   "cell_type": "markdown",
   "metadata": {},
   "source": [
    "## Inscribed circle to a polytope"
   ]
  },
  {
   "cell_type": "markdown",
   "metadata": {},
   "source": [
    "Warm-up example:\n",
    "\n",
    "Find the largest $\\ell_2$-ball contained in a polytope $\\mathcal{C} = \\{ x\\in\\mathbb{R}^2:x_1+x_2\\leq1, x_1\\geq0, x_2\\geq0\\}$, (see Figure below). \n",
    "\n",
    "By simple Pythagorean theorem argument, we know that the largest ball is centered at $(r,r)$ with radius $r$, where $r=\\frac{1}{2+\\sqrt{2}}$. \n",
    "\n",
    "It can be done by solving a linear programming problem as well. Moreover, we can use linear programming to find the largest inscribed circle to any polytope. See Example 20.5 in the textbook."
   ]
  },
  {
   "cell_type": "code",
   "execution_count": null,
   "metadata": {},
   "outputs": [],
   "source": [
    "x = np.linspace(0,1,100)\n",
    "y = 1-x\n",
    "fig, ax = plt.subplots() \n",
    "ax.plot(x, y, '-k')\n",
    "ax.axhline(y=0,xmin=0, xmax=1,color='k')\n",
    "ax.axvline(x=0,ymin=0, ymax=1,color='k')\n",
    "r = 1/(2+np.sqrt(2))\n",
    "circle1 = plt.Circle((r, r), r, color='r')\n",
    "ax.add_patch(circle1)\n",
    "ax.plot(r, r, '-o',color='b',markersize=3)\n",
    "plt.axis('equal')\n",
    "plt.show()"
   ]
  },
  {
   "cell_type": "markdown",
   "metadata": {},
   "source": [
    "Finding the largest $\\ell_p$-ball contained in a polytope $\\mathcal{C} = \\{ x\\in\\mathbb{R}^d:\\langle a^{(1)},x\\rangle\\leq b_1,\\dots, \\langle a^{(n)},x\\rangle\\leq b_n\\}$ amounts to solving the following linear program: $$ \\underset{c\\in\\mathbb{R}^d,r\\in\\mathbb{R}}{\\mathrm{maximize}} \\;r \\quad \\mbox{ subject to } \\langle a^{(i)},c\\rangle + r\\|a^{(i)}\\|_q \\leq b_i, i=1,\\dots,n,$$ where $q:=p/(p-1)\\in[1,\\infty]$ is the conjugate exponent of $p\\in[1,\\infty]$.\n",
    "\n",
    "In our trivial example, $p=q=2$ and $d=2$. Polytope $\\mathcal{C}$ is constructed with\n",
    "$$ a^{(1)} = [1,1]^\\top$$\n",
    "$$ a^{(2)} = [-1,0]^\\top$$\n",
    "$$ a^{(3)} = [0,-1]^\\top$$\n",
    "$$ b = [1,0,0]^\\top.$$"
   ]
  },
  {
   "cell_type": "code",
   "execution_count": null,
   "metadata": {},
   "outputs": [],
   "source": [
    "# Example of the d-simplex, first in the euclidean plane (p=2,d=2)\n",
    "# A picture reveals that the radius of the inscribed circle is 1/(2+sqrt(2))\n",
    "d = 2                       # ambient dimension\n",
    "p = 2                       # index of the \\ell_p-norm\n",
    "q = p/(p-1)                 # conjugate index\n",
    "A = np.row_stack( (np.ones((1,d)) , -np.eye(d)) )\n",
    "b = np.row_stack( (1, np.zeros((d,1)) ) )\n",
    "row_norms = np.zeros((d+1,1))\n",
    "for i in range(d+1):\n",
    "    row_norms[i] = LA.norm(A[i,:],q)\n",
    "center = cp.Variable((d,1))\n",
    "radius = cp.Variable(1)\n",
    "objective = cp.Maximize(radius)\n",
    "constraints = [A@center + radius*row_norms <= b]\n",
    "inscribed_circle = cp.Problem(objective,constraints)\n",
    "inscribed_circle.solve()\n",
    "radius = radius.value[0]\n",
    "print('In the euclidean plane, the computed inscribed radius is {:.3f}, which indeed equals 1/(2+sqrt(2))={:.3f}'\n",
    "      .format(radius,1/(2+np.sqrt(2))))"
   ]
  },
  {
   "cell_type": "markdown",
   "metadata": {},
   "source": [
    "Now we move to the general case (Exercise 20.4)\n",
    "\n",
    "When $\\mathcal{C}$ is the d-simplex, it is possible to guess a formula providing the value of the radius of the inscribed $\\ell_p$-ball as a function of $d$ and $p$."
   ]
  },
  {
   "cell_type": "code",
   "execution_count": null,
   "metadata": {},
   "outputs": [],
   "source": [
    "## Compute the values of the inscribed radius as a function of d when p=2, p=Inf, and p=1\n",
    "\n",
    "d_max = 10\n",
    "P = [1,2,np.inf]\n",
    "Q = [np.inf,2,1]\n",
    "for k in range(3):\n",
    "    # This loop controls the values of p and q\n",
    "    \n",
    "    for d in range(1,d_max+1):\n",
    "        # This loop controls the dimension d\n",
    "        \n",
    "        for i in range(d+1):\n",
    "            row_norms[i] = LA.norm(A[i,:],q)\n",
    "        \n",
    "        # linear programming goes here with pre-defined p,q,d\n",
    "        \n",
    "    print('\\nFor p={}, the radius of the inscribed radii when d goes from 1 to {} are:\\n{}'\n",
    "          .format(p,d_max,np.round(radius,4)))"
   ]
  }
 ],
 "metadata": {
  "kernelspec": {
   "display_name": "Python 3",
   "language": "python",
   "name": "python3"
  },
  "language_info": {
   "codemirror_mode": {
    "name": "ipython",
    "version": 3
   },
   "file_extension": ".py",
   "mimetype": "text/x-python",
   "name": "python",
   "nbconvert_exporter": "python",
   "pygments_lexer": "ipython3",
   "version": "3.7.6"
  }
 },
 "nbformat": 4,
 "nbformat_minor": 4
}
