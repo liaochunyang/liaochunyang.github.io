{
 "cells": [
  {
   "cell_type": "markdown",
   "metadata": {},
   "source": [
    "# Lab 3 (Feb 2): Support Vector Machine"
   ]
  },
  {
   "cell_type": "markdown",
   "metadata": {},
   "source": [
    "Support vector machine works well for linear separation problem and it can be generalized to non-linear separation problem (kernel trick next week)."
   ]
  },
  {
   "cell_type": "code",
   "execution_count": 1,
   "metadata": {},
   "outputs": [],
   "source": [
    "import numpy as np\n",
    "import matplotlib.pyplot as plt\n",
    "import warnings\n",
    "warnings.filterwarnings('ignore')"
   ]
  },
  {
   "cell_type": "markdown",
   "metadata": {},
   "source": [
    "### Generate data set  (linear separable)"
   ]
  },
  {
   "cell_type": "code",
   "execution_count": null,
   "metadata": {},
   "outputs": [],
   "source": [
    "np.random.seed(1)\n",
    "\n",
    "## class 1: -1\n",
    "m0 = 100\n",
    "X0_x = np.random.uniform(0,1,m0)                               # abscissae of the blue dots\n",
    "X0_y = 3/2*X0_x + 1/2 + np.random.normal(0,0.2,m0)             # their ordinates\n",
    "X0 = np.column_stack((X0_x,X0_y))\n",
    "\n",
    "## class 2: +1\n",
    "m1 = 50\n",
    "X1_x = np.random.uniform(1,2,m1)                               # abscissae of the red crosses\n",
    "X1_y = np.random.uniform(0,1,m1)                               # their ordinates\n",
    "X1 = np.column_stack((X1_x,X1_y))\n",
    "\n",
    "## visualize\n",
    "plt.plot(X0[:,0],X0[:,1],'b.',X1[:,0],X1[:,1],'r+',markerfacecolor='none',markersize=8)\n",
    "plt.legend(['-1','+1'])\n",
    "plt.xticks([])\n",
    "plt.yticks([])\n",
    "plt.show()"
   ]
  },
  {
   "cell_type": "markdown",
   "metadata": {},
   "source": [
    "### Linear feasibility program"
   ]
  },
  {
   "cell_type": "markdown",
   "metadata": {},
   "source": [
    "The optimization problem (4.2) in the textbook is\n",
    "\n",
    "$$ \\mathop{\\mathrm{minimize}}_{w\\in\\mathbb{R}^d, b\\in\\mathbb{R}} 1 \\quad \\mbox{ subject to } y_i(\\langle w, x^{(i)}\\rangle-b)\\geq1 \\quad  \\mbox{ for all } i\\in[1 : m]$$.\n",
    "\n",
    "Then, it can be reformalized as\n",
    "\n",
    "$$ \\mathop{\\mathrm{minimize}}_{\\tilde{w}\\in\\mathbb{R}^{d+1}} \\quad 0 \\quad \\mbox{ subject to } \\tilde{X} \\tilde{w} \\leq z,$$ where \n",
    "$$ \\tilde{X} = \\begin{bmatrix} -X0 && | && -1 \\\\ X1 && | && 1\\end{bmatrix} \\quad \\tilde{w} = [w;-b]\\in\\mathbb{R}^{d+1} \\quad z = \\begin{bmatrix} -1 \\\\ \\vdots \\\\ -1\\end{bmatrix}\\in\\mathbb{R}^m$$"
   ]
  },
  {
   "cell_type": "code",
   "execution_count": null,
   "metadata": {},
   "outputs": [],
   "source": [
    "from scipy.optimize import linprog\n",
    "# create a dummy objective function\n",
    "c = [0,0,0]\n",
    "# create the inequality constraints (of type Az <= b)\n",
    "X0_tilde = np.column_stack((X0,np.ones((m0,1))))\n",
    "X1_tilde = np.column_stack((X1,np.ones((m1,1))))\n",
    "A = np.row_stack( (-X0_tilde,X1_tilde) )\n",
    "b = -np.ones(m0+m1)\n",
    "# solve the linear program\n",
    "res = linprog(c, A_ub=A, b_ub=b, bounds=(None,None))\n",
    "w_feas = res.x[0:2]\n",
    "b_feas = -res.x[2]"
   ]
  },
  {
   "cell_type": "code",
   "execution_count": null,
   "metadata": {},
   "outputs": [],
   "source": [
    "# visualize the \"hyperplane\" produced by a linear feasibility program (in black)\n",
    "grid_x = np.linspace(0,2,20)\n",
    "plt.plot(X0[:,0],X0[:,1],'b.',X1[:,0],X1[:,1],'r+',markerfacecolor='none',markersize=8)\n",
    "plt.plot(grid_x,(-w_feas[0]*grid_x+b_feas)/w_feas[1],'k-.')\n",
    "plt.xticks([])\n",
    "plt.yticks([])\n",
    "plt.show()"
   ]
  },
  {
   "cell_type": "markdown",
   "metadata": {},
   "source": [
    "### Perceptron algorithm"
   ]
  },
  {
   "cell_type": "code",
   "execution_count": null,
   "metadata": {},
   "outputs": [],
   "source": [
    "from numpy import linalg as LA\n",
    "\n",
    "X_tilde = np.row_stack((X0_tilde,X1_tilde))\n",
    "y = np.row_stack((-np.ones((m0,1)),np.ones((m1,1))))\n",
    "w_tilde = np.zeros((3,1))\n",
    "obj_perc = y*(X_tilde@w_tilde)    # to be entrywise positive at the end of the loop\n",
    "while min(obj_perc)<=0:\n",
    "    i = np.argmin(obj_perc)\n",
    "    w_tilde = w_tilde + (y[i]/LA.norm(X_tilde[i,:])**2)*np.transpose([X_tilde[i,:]])\n",
    "    obj_perc = y*(X_tilde@w_tilde)\n",
    "w_perc = w_tilde[0:2]\n",
    "b_perc = -w_tilde[2]\n",
    "\n",
    "# visualize the \"hyperplane\" produced by the perceptrom algorithm (in green)    \n",
    "plt.plot(X0[:,0],X0[:,1],'b.',X1[:,0],X1[:,1],'r+',markerfacecolor='none',markersize=8,label='_nolegend_')\n",
    "plt.plot(grid_x,(-w_feas[0]*grid_x+b_feas)/w_feas[1],'k-.')\n",
    "plt.plot(grid_x,(-w_perc[0]*grid_x+b_perc)/w_perc[1],'g')\n",
    "plt.legend(['Linear feasible','perceptron algorithm'])\n",
    "plt.ylim((-0.2,2.5))\n",
    "plt.xticks([])\n",
    "plt.yticks([])\n",
    "plt.show()"
   ]
  },
  {
   "cell_type": "markdown",
   "metadata": {},
   "source": [
    "### Hard SVM"
   ]
  },
  {
   "cell_type": "markdown",
   "metadata": {},
   "source": [
    "The optimization problem (4.3) in the textbook, called Hard SVM, is \n",
    "\n",
    "$$ \\mathop{\\mathrm{minimize}}_{w\\in\\mathbb{R}^d, b\\in\\mathbb{R}} \\|w\\|_2 \\quad \\mbox{ subject to } y_i(\\langle w, x^{(i)}\\rangle-b)\\geq1 \\quad  \\mbox{ for all } i\\in[1 : m]$$."
   ]
  },
  {
   "cell_type": "code",
   "execution_count": 2,
   "metadata": {},
   "outputs": [],
   "source": [
    "import cvxpy as cp"
   ]
  },
  {
   "cell_type": "code",
   "execution_count": null,
   "metadata": {},
   "outputs": [],
   "source": [
    "# define the variables\n",
    "w = cp.Variable(2)\n",
    "b = cp.Variable(1)\n",
    "# define the objective function\n",
    "objective = cp.Minimize(cp.norm(w))\n",
    "# define the inequality constraints\n",
    "constraints = [X0@w - b <= -1]\n",
    "constraints += [X1@w - b >= 1]\n",
    "# solve the optimization problem\n",
    "hard_SVM = cp.Problem(objective, constraints)\n",
    "hard_SVM.solve()\n",
    "w_hsvm = w.value\n",
    "b_hsvm = b.value"
   ]
  },
  {
   "cell_type": "code",
   "execution_count": null,
   "metadata": {},
   "outputs": [],
   "source": [
    "# visualize the \"hyperplane\" produced by hard SVM (in magenta)\n",
    "grid_x = np.linspace(0,2,20)\n",
    "plt.plot(X0[:,0],X0[:,1],'b.',X1[:,0],X1[:,1],'r+',markerfacecolor='none',markersize=8,label='_nolegend_')\n",
    "plt.plot(grid_x,(-w_feas[0]*grid_x+b_feas)/w_feas[1],'k-.')\n",
    "plt.plot(grid_x,(-w_perc[0]*grid_x+b_perc)/w_perc[1],'g')\n",
    "plt.plot(grid_x,(-w_hsvm[0]*grid_x+b_hsvm)/w_hsvm[1],'m--')\n",
    "plt.legend(['Linear feasible','perceptron algorithm','Hard SVM'])\n",
    "plt.xticks([])\n",
    "plt.yticks([])\n",
    "plt.show()"
   ]
  },
  {
   "cell_type": "code",
   "execution_count": null,
   "metadata": {},
   "outputs": [],
   "source": [
    "from sklearn.svm import LinearSVC\n",
    "\n",
    "X_tilde = np.row_stack((X0,X1))\n",
    "y = np.row_stack((-np.ones((m0,1)),np.ones((m1,1))))\n",
    "\n",
    "clf = LinearSVC(C=1e20,loss=\"hinge\")\n",
    "clf.fit(X_tilde,y)\n",
    "\n",
    "w_clf = clf.coef_[0]\n",
    "b_clf = clf.intercept_[0]\n",
    "## Remark: The smaller C allows more misclassficiation, while the larger C leads to less misclassification"
   ]
  },
  {
   "cell_type": "code",
   "execution_count": null,
   "metadata": {},
   "outputs": [],
   "source": [
    "grid_x = np.linspace(0,2,20)\n",
    "plt.plot(X0[:,0],X0[:,1],'b.',X1[:,0],X1[:,1],'r+',markerfacecolor='none',markersize=8,label='_nolegend_')\n",
    "plt.plot(grid_x,(-w_hsvm[0]*grid_x+b_hsvm)/w_hsvm[1],'m--')\n",
    "plt.plot(grid_x,(-w_clf[0]*grid_x-b_clf)/w_clf[1],'r')\n",
    "plt.legend(['Hard SVM','sklearn'])\n",
    "#plt.xticks([])\n",
    "#plt.yticks([])\n",
    "plt.show()"
   ]
  },
  {
   "cell_type": "code",
   "execution_count": null,
   "metadata": {},
   "outputs": [],
   "source": [
    "# prediction\n",
    "x_new_1 = [1,0.5]\n",
    "y_new_1 = clf.predict([x_new_1])[0]\n",
    "print( 'If new data is [1,0.5], the predict class is {:d}'.format(int(y_new_1)) )\n",
    "\n"
   ]
  },
  {
   "cell_type": "code",
   "execution_count": null,
   "metadata": {},
   "outputs": [],
   "source": [
    "x_new_1 = [1,0.5]\n",
    "y_new_1 = clf.predict([x_new_1])\n",
    "y_new_1[0]"
   ]
  },
  {
   "cell_type": "code",
   "execution_count": null,
   "metadata": {},
   "outputs": [],
   "source": [
    "x_new_2 = [1,3.5]\n",
    "y_new_2 = clf.predict([x_new_2])[0]\n",
    "print( 'If new data is [1,3.5], the predict class is {:d}'.format(int(y_new_2)) )"
   ]
  },
  {
   "cell_type": "markdown",
   "metadata": {},
   "source": [
    "## The case of two almost linearly separable classes"
   ]
  },
  {
   "cell_type": "code",
   "execution_count": 3,
   "metadata": {},
   "outputs": [
    {
     "data": {
      "image/png": "[encoded data removed]",
      "text/plain": [
       "<Figure size 432x288 with 1 Axes>"
      ]
     },
     "metadata": {},
     "output_type": "display_data"
    }
   ],
   "source": [
    "# generate the data \n",
    "m0 = 100\n",
    "m1 = 50\n",
    "X0_x = np.random.uniform(0,1,m0)                                  # abscissae of the blue dots\n",
    "X0_y = X0_x + 1/4 + np.random.normal(0,0.2,m0)                    # their ordinates\n",
    "X0 = np.column_stack((X0_x,X0_y))\n",
    "X1_x = np.random.uniform(0.6,1.6,m1)                              # abscissae of the red crosses\n",
    "X1_y = np.random.uniform(0,1,m1)                                  # their ordinates\n",
    "X1 = np.column_stack((X1_x,X1_y))\n",
    "plt.plot(X0[:,0],X0[:,1],'b.',X1[:,0],X1[:,1],'r+',markerfacecolor='none',markersize=8)\n",
    "plt.xticks([])\n",
    "plt.yticks([])\n",
    "plt.show()"
   ]
  },
  {
   "cell_type": "markdown",
   "metadata": {},
   "source": [
    "The optimization problem (4.3) in the textbook, called soft SVM, is \n",
    "\n",
    "$$ \\mathop{\\mathrm{minimize}}_{w\\in\\mathbb{R}^d, b\\in\\mathbb{R},\\xi\\in\\mathbb{R}^m} \\|w\\|_2+\\frac{1}{\\lambda}\\sum_{i=1}^{m}\\xi_i \\quad \\mbox{ subject to } y_i(\\langle w, x^{(i)}\\rangle-b)\\geq1-\\xi_i \\mbox{ and } \\xi_i\\geq0 \\quad  \\mbox{ for all } i\\in[1 : m]$$."
   ]
  },
  {
   "cell_type": "code",
   "execution_count": 4,
   "metadata": {},
   "outputs": [],
   "source": [
    "# define the variables\n",
    "w = cp.Variable(2)\n",
    "b = cp.Variable(1)\n",
    "xi = cp.Variable(m0+m1,pos=True)\n",
    "# define the objective function\n",
    "lamb = 1e-3\n",
    "objective = cp.Minimize(cp.norm(w)+cp.sum(xi)/lamb)\n",
    "# define the inequality constraints\n",
    "constraints = [ X0@w - b <= -1+xi[0:m0] ]\n",
    "constraints += [X1@w - b >= 1-xi[m0:m0+m1]]\n",
    "# solve the optimization problem\n",
    "soft_SVM = cp.Problem(objective, constraints)\n",
    "soft_SVM.solve()\n",
    "w_ssvm = w.value\n",
    "b_ssvm = b.value"
   ]
  },
  {
   "cell_type": "code",
   "execution_count": 5,
   "metadata": {},
   "outputs": [
    {
     "data": {
      "image/png": "[encoded data removed]",
      "text/plain": [
       "<Figure size 432x288 with 1 Axes>"
      ]
     },
     "metadata": {},
     "output_type": "display_data"
    }
   ],
   "source": [
    "# visualize the \"hyperplane\" produced by soft SVM\n",
    "grid_x = np.linspace(0,1.6,20)\n",
    "plt.plot(X0[:,0],X0[:,1],'b.',X1[:,0],X1[:,1],'r+',markerfacecolor='none',markersize=8)\n",
    "plt.plot(grid_x,(-w_ssvm[0]*grid_x+b_ssvm)/w_ssvm[1],'k-.')\n",
    "plt.xticks([])\n",
    "plt.yticks([])\n",
    "plt.show()"
   ]
  },
  {
   "cell_type": "code",
   "execution_count": 8,
   "metadata": {},
   "outputs": [],
   "source": [
    "from sklearn.svm import LinearSVC\n",
    "\n",
    "X_tilde = np.row_stack((X0,X1))\n",
    "y = np.row_stack((-np.ones((m0,1)),np.ones((m1,1))))\n",
    "\n",
    "clf = LinearSVC(C=1,loss=\"hinge\")\n",
    "clf.fit(X_tilde,y)\n",
    "\n",
    "w_clf = clf.coef_[0]\n",
    "b_clf = clf.intercept_[0]"
   ]
  },
  {
   "cell_type": "code",
   "execution_count": 9,
   "metadata": {},
   "outputs": [
    {
     "data": {
      "image/png": "[encoded data removed]",
      "text/plain": [
       "<Figure size 432x288 with 1 Axes>"
      ]
     },
     "metadata": {
      "needs_background": "light"
     },
     "output_type": "display_data"
    }
   ],
   "source": [
    "grid_x = np.linspace(0,1.6,20)\n",
    "plt.plot(X0[:,0],X0[:,1],'b.',X1[:,0],X1[:,1],'r+',markerfacecolor='none',markersize=8)\n",
    "plt.plot(grid_x,(-w_ssvm[0]*grid_x+b_ssvm)/w_ssvm[1],'k-.')\n",
    "plt.plot(grid_x,(-w_clf[0]*grid_x-b_clf)/w_clf[1],'g-')\n",
    "#plt.xticks([])\n",
    "#plt.yticks([])\n",
    "plt.show()"
   ]
  },
  {
   "cell_type": "code",
   "execution_count": null,
   "metadata": {},
   "outputs": [],
   "source": []
  }
 ],
 "metadata": {
  "kernelspec": {
   "display_name": "Python 3",
   "language": "python",
   "name": "python3"
  },
  "language_info": {
   "codemirror_mode": {
    "name": "ipython",
    "version": 3
   },
   "file_extension": ".py",
   "mimetype": "text/x-python",
   "name": "python",
   "nbconvert_exporter": "python",
   "pygments_lexer": "ipython3",
   "version": "3.7.6"
  }
 },
 "nbformat": 4,
 "nbformat_minor": 4
}
