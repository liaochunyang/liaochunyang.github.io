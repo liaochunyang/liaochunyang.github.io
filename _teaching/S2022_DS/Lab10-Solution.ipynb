{
 "cells": [
  {
   "cell_type": "markdown",
   "metadata": {},
   "source": [
    "# Lab 10 (March 23): Compressive Sensing"
   ]
  },
  {
   "cell_type": "code",
   "execution_count": 1,
   "metadata": {},
   "outputs": [],
   "source": [
    "import numpy as np\n",
    "from numpy import linalg as LA\n",
    "import warnings\n",
    "warnings.filterwarnings('ignore')"
   ]
  },
  {
   "cell_type": "markdown",
   "metadata": {},
   "source": [
    "Rough Explaination of the success of $\\ell_1$ minimization:\n",
    "\n",
    "Theorem 14.2 \n",
    "(1) $\\ell_1$ minimization is successful;\n",
    "(2) matrix $A$ satisfies null space property\n",
    "\n",
    "Small coherence of $A$ implies the null space property, however, we need $m\\gtrsim s^2$ to met small coherence property.\n",
    "\n",
    "So, we introduce Restricted Isometry Property. There are $\\ell_1$-Restricted Isometry Property and $\\ell_2$-Restricted Isometry Property. \n",
    "\n",
    "Random matrices satisfy Restricted Isometry Property with high probability."
   ]
  },
  {
   "cell_type": "code",
   "execution_count": 2,
   "metadata": {},
   "outputs": [],
   "source": [
    "# generate a sparse vector together with its observation vector\n",
    "N = 2000             # ambient dimension\n",
    "m = 500              # number of measurements\n",
    "s = 80               # sparsity level\n",
    "# create the sparse vector x\n",
    "x = np.zeros(N)\n",
    "supp = np.sort(np.random.permutation(N)[:s])\n",
    "x[supp] = np.random.normal(0,1,s)\n",
    "# define the observation matrix A (Theorem 14.6 to satisfy RIP)\n",
    "A = np.sqrt(np.pi/2)/m*np.random.normal(0,1,size=(m,N))\n",
    "# produce the observation vector y\n",
    "y = A@x"
   ]
  },
  {
   "cell_type": "code",
   "execution_count": 3,
   "metadata": {},
   "outputs": [],
   "source": [
    "import cvxpy as cp"
   ]
  },
  {
   "cell_type": "markdown",
   "metadata": {},
   "source": [
    "#### $\\ell_1$ minimization by directly using CVXPY\n",
    "The $\\ell_1$ minimizatio program:\n",
    "$$ \\mathop{\\mathrm{minimize}}_{z\\in\\mathbb{R}^N} \\|z\\|_1 \\quad \\mbox{ s.to } Az=y $$"
   ]
  },
  {
   "cell_type": "code",
   "execution_count": 4,
   "metadata": {},
   "outputs": [
    {
     "name": "stdout",
     "output_type": "stream",
     "text": [
      "5.400160140282881e-14\n",
      "28\n"
     ]
    }
   ],
   "source": [
    "z = cp.Variable(N)\n",
    "objective = cp.Minimize(cp.norm(z,1))\n",
    "constraints = [A@z==y]\n",
    "M1 = cp.Problem(objective,constraints)\n",
    "M1.solve()\n",
    "z = z.value\n",
    "print(LA.norm(x-z)/LA.norm(x))\n",
    "print(sum(z>1e-5))"
   ]
  },
  {
   "cell_type": "markdown",
   "metadata": {},
   "source": [
    "#### $\\ell_1$ minimization to the following linear programming, then use CVXPY\n",
    "by introducing nonnegative slack vectors $z^+$ and $z^-$, so as to solve the standard-form linear program $$ \\underset{z^+,z^-\\in\\mathbb{R}^N}{\\rm minimize} \\sum_{j=1}^N (z^+_j + z^-_j) \\qquad \\mbox{subject to } A(z^+-z^-) = y, \\; z^+ \\ge 0, \\; z^- \\ge 0; $$"
   ]
  },
  {
   "cell_type": "code",
   "execution_count": 5,
   "metadata": {},
   "outputs": [
    {
     "name": "stdout",
     "output_type": "stream",
     "text": [
      "2.2014539852387352e-10\n",
      "28\n"
     ]
    }
   ],
   "source": [
    "z1 = cp.Variable(N,pos=True)\n",
    "z2 = cp.Variable(N,pos=True)\n",
    "objective = cp.Minimize(cp.sum(z1+z2))\n",
    "constraints = [A@(z1-z2)==y]\n",
    "M2 = cp.Problem(objective,constraints)\n",
    "M2.solve()\n",
    "z = z1.value - z2.value\n",
    "print(LA.norm(x-z)/LA.norm(x))\n",
    "print(sum(z>1e-5))"
   ]
  },
  {
   "cell_type": "markdown",
   "metadata": {},
   "source": [
    "#### $\\ell_1$ minimization to the following linear programming, then use CVXPY\n",
    "by introducing a slack vector $c$, so as to solve the alternative linear program $$ \\underset{z,c\\in\\mathbb{R}^N}{\\rm minimize} \\sum_{j=1}^N c_j \\qquad \\mbox{subject to } Az = y, \\; -c \\leq z \\leq c. $$"
   ]
  },
  {
   "cell_type": "code",
   "execution_count": 6,
   "metadata": {},
   "outputs": [
    {
     "name": "stdout",
     "output_type": "stream",
     "text": [
      "5.400160140282881e-14\n",
      "28\n"
     ]
    }
   ],
   "source": [
    "c = cp.Variable(N)\n",
    "z = cp.Variable(N)\n",
    "objective = cp.Minimize(cp.sum(c))\n",
    "constraints = [A@z==y]\n",
    "constraints+= [z+c>=0]\n",
    "constraints+= [c-z>=0]\n",
    "M3 = cp.Problem(objective,constraints)\n",
    "M3.solve()\n",
    "z = z.value\n",
    "print(LA.norm(x-z)/LA.norm(x))\n",
    "print(sum(z>1e-5))"
   ]
  },
  {
   "cell_type": "markdown",
   "metadata": {},
   "source": [
    "#### $\\ell_1$ minimization to linear programming, then use scipy linear programming\n",
    "\n",
    "$$ \\underset{z^+,z^-\\in\\mathbb{R}^N}{\\rm minimize} \\sum_{j=1}^N (z^+_j + z^-_j) \\qquad \\mbox{subject to } A(z^+-z^-) = y, \\; z^+ \\ge 0, \\; z^- \\ge 0; $$"
   ]
  },
  {
   "cell_type": "markdown",
   "metadata": {},
   "source": [
    "Documentation of scipy.optimize.linprog: https://docs.scipy.org/doc/scipy/reference/generated/scipy.optimize.linprog.html"
   ]
  },
  {
   "cell_type": "code",
   "execution_count": 7,
   "metadata": {},
   "outputs": [],
   "source": [
    "from scipy.optimize import linprog"
   ]
  },
  {
   "cell_type": "code",
   "execution_count": 9,
   "metadata": {},
   "outputs": [],
   "source": [
    "c = np.ones(2*N)\n",
    "Aeq = np.column_stack((A,-A))\n",
    "bounds = [(0,None)]*(2*N)   # it's not necessary, check the default bounds\n",
    "res = linprog(c, A_eq=Aeq, b_eq=y,bounds=bounds, method='interior-point') \n",
    "z_plus = res.x[0:N]\n",
    "z_minus = res.x[N:2*N]\n",
    "z = z_plus-z_minus"
   ]
  },
  {
   "cell_type": "code",
   "execution_count": 11,
   "metadata": {},
   "outputs": [
    {
     "name": "stdout",
     "output_type": "stream",
     "text": [
      "4.591465514259358e-11\n",
      "28\n"
     ]
    }
   ],
   "source": [
    "print(LA.norm(x-z)/LA.norm(x))\n",
    "print(sum(z>0))"
   ]
  },
  {
   "cell_type": "markdown",
   "metadata": {},
   "source": [
    "Play with method in linear programming.\n",
    "\n",
    "Conclusion: Simplex method gives exact zero and interior-point method doesn't give exact zero"
   ]
  }
 ],
 "metadata": {
  "kernelspec": {
   "display_name": "Python 3",
   "language": "python",
   "name": "python3"
  },
  "language_info": {
   "codemirror_mode": {
    "name": "ipython",
    "version": 3
   },
   "file_extension": ".py",
   "mimetype": "text/x-python",
   "name": "python",
   "nbconvert_exporter": "python",
   "pygments_lexer": "ipython3",
   "version": "3.7.6"
  }
 },
 "nbformat": 4,
 "nbformat_minor": 4
}
